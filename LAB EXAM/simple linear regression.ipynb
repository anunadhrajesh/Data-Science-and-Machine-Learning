{
 "cells": [
  {
   "cell_type": "code",
   "execution_count": 1,
   "id": "2c3808d5",
   "metadata": {},
   "outputs": [],
   "source": [
    "import numpy as np\n",
    "import matplotlib.pyplot as plt\n",
    "import pandas as pd\n",
    "import seaborn as sns"
   ]
  },
  {
   "cell_type": "code",
   "execution_count": 4,
   "id": "80b7b627",
   "metadata": {},
   "outputs": [],
   "source": [
    "student_score=np.array(['sname','sid','sscore'])"
   ]
  },
  {
   "cell_type": "code",
   "execution_count": 5,
   "id": "5cab6015",
   "metadata": {},
   "outputs": [],
   "source": [
    "company_data=np.array(['cname','cid','cdata'])"
   ]
  },
  {
   "cell_type": "code",
   "execution_count": 6,
   "id": "af4ddc4d",
   "metadata": {},
   "outputs": [
    {
     "ename": "SyntaxError",
     "evalue": "invalid syntax (591770637.py, line 1)",
     "output_type": "error",
     "traceback": [
      "\u001b[0;36m  File \u001b[0;32m\"/tmp/ipykernel_6444/591770637.py\"\u001b[0;36m, line \u001b[0;32m1\u001b[0m\n\u001b[0;31m    dataset=pd.read student_score(student_score.csv)\u001b[0m\n\u001b[0m                    ^\u001b[0m\n\u001b[0;31mSyntaxError\u001b[0m\u001b[0;31m:\u001b[0m invalid syntax\n"
     ]
    }
   ],
   "source": [
    "dataset=pd.read student_score(student_score.csv)"
   ]
  },
  {
   "cell_type": "code",
   "execution_count": null,
   "id": "59fd8608",
   "metadata": {},
   "outputs": [],
   "source": [
    "dataset=pd.read company_data(company_data.csv)"
   ]
  }
 ],
 "metadata": {
  "kernelspec": {
   "display_name": "Python 3 (ipykernel)",
   "language": "python",
   "name": "python3"
  },
  "language_info": {
   "codemirror_mode": {
    "name": "ipython",
    "version": 3
   },
   "file_extension": ".py",
   "mimetype": "text/x-python",
   "name": "python",
   "nbconvert_exporter": "python",
   "pygments_lexer": "ipython3",
   "version": "3.9.7"
  }
 },
 "nbformat": 4,
 "nbformat_minor": 5
}
